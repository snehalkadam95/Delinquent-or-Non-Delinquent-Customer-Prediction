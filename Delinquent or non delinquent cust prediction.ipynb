{
 "cells": [
  {
   "cell_type": "code",
   "execution_count": 1,
   "id": "ebdc153c",
   "metadata": {},
   "outputs": [],
   "source": [
    "#importing dependencies\n",
    "\n",
    "import pandas as pd\n",
    "import numpy as np\n",
    "import seaborn as sns\n",
    "import matplotlib.pyplot as plt\n"
   ]
  },
  {
   "cell_type": "code",
   "execution_count": 2,
   "id": "237c60b3",
   "metadata": {},
   "outputs": [],
   "source": [
    "#load data into dataframe\n",
    "train=pd.read_csv(r\"C:\\Users\\DELL\\Documents\\Snehal DS\\Snehal Projects\\Delinquent or NonDelinquent  customer prediction\\training.csv\")\n",
    "test=pd.read_csv(r\"C:\\Users\\DELL\\Documents\\Snehal DS\\Snehal Projects\\Delinquent or NonDelinquent  customer prediction\\test.csv\")"
   ]
  },
  {
   "cell_type": "code",
   "execution_count": 3,
   "id": "3c32a784",
   "metadata": {},
   "outputs": [
    {
     "data": {
      "text/plain": [
       "(150000, 12)"
      ]
     },
     "execution_count": 3,
     "metadata": {},
     "output_type": "execute_result"
    }
   ],
   "source": [
    "#Data Understanding and preprocessing\n",
    "train.shape"
   ]
  },
  {
   "cell_type": "code",
   "execution_count": 4,
   "id": "5bdff554",
   "metadata": {},
   "outputs": [
    {
     "data": {
      "text/plain": [
       "(101503, 12)"
      ]
     },
     "execution_count": 4,
     "metadata": {},
     "output_type": "execute_result"
    }
   ],
   "source": [
    "test.shape"
   ]
  },
  {
   "cell_type": "code",
   "execution_count": 5,
   "id": "2ffdef7c",
   "metadata": {},
   "outputs": [
    {
     "data": {
      "text/html": [
       "<div>\n",
       "<style scoped>\n",
       "    .dataframe tbody tr th:only-of-type {\n",
       "        vertical-align: middle;\n",
       "    }\n",
       "\n",
       "    .dataframe tbody tr th {\n",
       "        vertical-align: top;\n",
       "    }\n",
       "\n",
       "    .dataframe thead th {\n",
       "        text-align: right;\n",
       "    }\n",
       "</style>\n",
       "<table border=\"1\" class=\"dataframe\">\n",
       "  <thead>\n",
       "    <tr style=\"text-align: right;\">\n",
       "      <th></th>\n",
       "      <th>Unnamed: 0</th>\n",
       "      <th>SeriousDlqin2yrs</th>\n",
       "      <th>RevolvingUtilizationOfUnsecuredLines</th>\n",
       "      <th>age</th>\n",
       "      <th>NumberOfTime30-59DaysPastDueNotWorse</th>\n",
       "      <th>DebtRatio</th>\n",
       "      <th>MonthlyIncome</th>\n",
       "      <th>NumberOfOpenCreditLinesAndLoans</th>\n",
       "      <th>NumberOfTimes90DaysLate</th>\n",
       "      <th>NumberRealEstateLoansOrLines</th>\n",
       "      <th>NumberOfTime60-89DaysPastDueNotWorse</th>\n",
       "      <th>NumberOfDependents</th>\n",
       "    </tr>\n",
       "  </thead>\n",
       "  <tbody>\n",
       "    <tr>\n",
       "      <th>0</th>\n",
       "      <td>1</td>\n",
       "      <td>1</td>\n",
       "      <td>0.766127</td>\n",
       "      <td>45</td>\n",
       "      <td>2</td>\n",
       "      <td>0.802982</td>\n",
       "      <td>9120.0</td>\n",
       "      <td>13</td>\n",
       "      <td>0</td>\n",
       "      <td>6</td>\n",
       "      <td>0</td>\n",
       "      <td>2.0</td>\n",
       "    </tr>\n",
       "    <tr>\n",
       "      <th>1</th>\n",
       "      <td>2</td>\n",
       "      <td>0</td>\n",
       "      <td>0.957151</td>\n",
       "      <td>40</td>\n",
       "      <td>0</td>\n",
       "      <td>0.121876</td>\n",
       "      <td>2600.0</td>\n",
       "      <td>4</td>\n",
       "      <td>0</td>\n",
       "      <td>0</td>\n",
       "      <td>0</td>\n",
       "      <td>1.0</td>\n",
       "    </tr>\n",
       "    <tr>\n",
       "      <th>2</th>\n",
       "      <td>3</td>\n",
       "      <td>0</td>\n",
       "      <td>0.658180</td>\n",
       "      <td>38</td>\n",
       "      <td>1</td>\n",
       "      <td>0.085113</td>\n",
       "      <td>3042.0</td>\n",
       "      <td>2</td>\n",
       "      <td>1</td>\n",
       "      <td>0</td>\n",
       "      <td>0</td>\n",
       "      <td>0.0</td>\n",
       "    </tr>\n",
       "    <tr>\n",
       "      <th>3</th>\n",
       "      <td>4</td>\n",
       "      <td>0</td>\n",
       "      <td>0.233810</td>\n",
       "      <td>30</td>\n",
       "      <td>0</td>\n",
       "      <td>0.036050</td>\n",
       "      <td>3300.0</td>\n",
       "      <td>5</td>\n",
       "      <td>0</td>\n",
       "      <td>0</td>\n",
       "      <td>0</td>\n",
       "      <td>0.0</td>\n",
       "    </tr>\n",
       "    <tr>\n",
       "      <th>4</th>\n",
       "      <td>5</td>\n",
       "      <td>0</td>\n",
       "      <td>0.907239</td>\n",
       "      <td>49</td>\n",
       "      <td>1</td>\n",
       "      <td>0.024926</td>\n",
       "      <td>63588.0</td>\n",
       "      <td>7</td>\n",
       "      <td>0</td>\n",
       "      <td>1</td>\n",
       "      <td>0</td>\n",
       "      <td>0.0</td>\n",
       "    </tr>\n",
       "  </tbody>\n",
       "</table>\n",
       "</div>"
      ],
      "text/plain": [
       "   Unnamed: 0  SeriousDlqin2yrs  RevolvingUtilizationOfUnsecuredLines  age  \\\n",
       "0           1                 1                              0.766127   45   \n",
       "1           2                 0                              0.957151   40   \n",
       "2           3                 0                              0.658180   38   \n",
       "3           4                 0                              0.233810   30   \n",
       "4           5                 0                              0.907239   49   \n",
       "\n",
       "   NumberOfTime30-59DaysPastDueNotWorse  DebtRatio  MonthlyIncome  \\\n",
       "0                                     2   0.802982         9120.0   \n",
       "1                                     0   0.121876         2600.0   \n",
       "2                                     1   0.085113         3042.0   \n",
       "3                                     0   0.036050         3300.0   \n",
       "4                                     1   0.024926        63588.0   \n",
       "\n",
       "   NumberOfOpenCreditLinesAndLoans  NumberOfTimes90DaysLate  \\\n",
       "0                               13                        0   \n",
       "1                                4                        0   \n",
       "2                                2                        1   \n",
       "3                                5                        0   \n",
       "4                                7                        0   \n",
       "\n",
       "   NumberRealEstateLoansOrLines  NumberOfTime60-89DaysPastDueNotWorse  \\\n",
       "0                             6                                     0   \n",
       "1                             0                                     0   \n",
       "2                             0                                     0   \n",
       "3                             0                                     0   \n",
       "4                             1                                     0   \n",
       "\n",
       "   NumberOfDependents  \n",
       "0                 2.0  \n",
       "1                 1.0  \n",
       "2                 0.0  \n",
       "3                 0.0  \n",
       "4                 0.0  "
      ]
     },
     "execution_count": 5,
     "metadata": {},
     "output_type": "execute_result"
    }
   ],
   "source": [
    "train.head()"
   ]
  },
  {
   "cell_type": "code",
   "execution_count": 6,
   "id": "8f6d77ac",
   "metadata": {},
   "outputs": [
    {
     "data": {
      "text/html": [
       "<div>\n",
       "<style scoped>\n",
       "    .dataframe tbody tr th:only-of-type {\n",
       "        vertical-align: middle;\n",
       "    }\n",
       "\n",
       "    .dataframe tbody tr th {\n",
       "        vertical-align: top;\n",
       "    }\n",
       "\n",
       "    .dataframe thead th {\n",
       "        text-align: right;\n",
       "    }\n",
       "</style>\n",
       "<table border=\"1\" class=\"dataframe\">\n",
       "  <thead>\n",
       "    <tr style=\"text-align: right;\">\n",
       "      <th></th>\n",
       "      <th>Unnamed: 0</th>\n",
       "      <th>SeriousDlqin2yrs</th>\n",
       "      <th>RevolvingUtilizationOfUnsecuredLines</th>\n",
       "      <th>age</th>\n",
       "      <th>NumberOfTime30-59DaysPastDueNotWorse</th>\n",
       "      <th>DebtRatio</th>\n",
       "      <th>MonthlyIncome</th>\n",
       "      <th>NumberOfOpenCreditLinesAndLoans</th>\n",
       "      <th>NumberOfTimes90DaysLate</th>\n",
       "      <th>NumberRealEstateLoansOrLines</th>\n",
       "      <th>NumberOfTime60-89DaysPastDueNotWorse</th>\n",
       "      <th>NumberOfDependents</th>\n",
       "    </tr>\n",
       "  </thead>\n",
       "  <tbody>\n",
       "    <tr>\n",
       "      <th>0</th>\n",
       "      <td>1</td>\n",
       "      <td>NaN</td>\n",
       "      <td>0.885519</td>\n",
       "      <td>43</td>\n",
       "      <td>0</td>\n",
       "      <td>0.177513</td>\n",
       "      <td>5700.0</td>\n",
       "      <td>4</td>\n",
       "      <td>0</td>\n",
       "      <td>0</td>\n",
       "      <td>0</td>\n",
       "      <td>0.0</td>\n",
       "    </tr>\n",
       "    <tr>\n",
       "      <th>1</th>\n",
       "      <td>2</td>\n",
       "      <td>NaN</td>\n",
       "      <td>0.463295</td>\n",
       "      <td>57</td>\n",
       "      <td>0</td>\n",
       "      <td>0.527237</td>\n",
       "      <td>9141.0</td>\n",
       "      <td>15</td>\n",
       "      <td>0</td>\n",
       "      <td>4</td>\n",
       "      <td>0</td>\n",
       "      <td>2.0</td>\n",
       "    </tr>\n",
       "    <tr>\n",
       "      <th>2</th>\n",
       "      <td>3</td>\n",
       "      <td>NaN</td>\n",
       "      <td>0.043275</td>\n",
       "      <td>59</td>\n",
       "      <td>0</td>\n",
       "      <td>0.687648</td>\n",
       "      <td>5083.0</td>\n",
       "      <td>12</td>\n",
       "      <td>0</td>\n",
       "      <td>1</td>\n",
       "      <td>0</td>\n",
       "      <td>2.0</td>\n",
       "    </tr>\n",
       "    <tr>\n",
       "      <th>3</th>\n",
       "      <td>4</td>\n",
       "      <td>NaN</td>\n",
       "      <td>0.280308</td>\n",
       "      <td>38</td>\n",
       "      <td>1</td>\n",
       "      <td>0.925961</td>\n",
       "      <td>3200.0</td>\n",
       "      <td>7</td>\n",
       "      <td>0</td>\n",
       "      <td>2</td>\n",
       "      <td>0</td>\n",
       "      <td>0.0</td>\n",
       "    </tr>\n",
       "    <tr>\n",
       "      <th>4</th>\n",
       "      <td>5</td>\n",
       "      <td>NaN</td>\n",
       "      <td>1.000000</td>\n",
       "      <td>27</td>\n",
       "      <td>0</td>\n",
       "      <td>0.019917</td>\n",
       "      <td>3865.0</td>\n",
       "      <td>4</td>\n",
       "      <td>0</td>\n",
       "      <td>0</td>\n",
       "      <td>0</td>\n",
       "      <td>1.0</td>\n",
       "    </tr>\n",
       "  </tbody>\n",
       "</table>\n",
       "</div>"
      ],
      "text/plain": [
       "   Unnamed: 0  SeriousDlqin2yrs  RevolvingUtilizationOfUnsecuredLines  age  \\\n",
       "0           1               NaN                              0.885519   43   \n",
       "1           2               NaN                              0.463295   57   \n",
       "2           3               NaN                              0.043275   59   \n",
       "3           4               NaN                              0.280308   38   \n",
       "4           5               NaN                              1.000000   27   \n",
       "\n",
       "   NumberOfTime30-59DaysPastDueNotWorse  DebtRatio  MonthlyIncome  \\\n",
       "0                                     0   0.177513         5700.0   \n",
       "1                                     0   0.527237         9141.0   \n",
       "2                                     0   0.687648         5083.0   \n",
       "3                                     1   0.925961         3200.0   \n",
       "4                                     0   0.019917         3865.0   \n",
       "\n",
       "   NumberOfOpenCreditLinesAndLoans  NumberOfTimes90DaysLate  \\\n",
       "0                                4                        0   \n",
       "1                               15                        0   \n",
       "2                               12                        0   \n",
       "3                                7                        0   \n",
       "4                                4                        0   \n",
       "\n",
       "   NumberRealEstateLoansOrLines  NumberOfTime60-89DaysPastDueNotWorse  \\\n",
       "0                             0                                     0   \n",
       "1                             4                                     0   \n",
       "2                             1                                     0   \n",
       "3                             2                                     0   \n",
       "4                             0                                     0   \n",
       "\n",
       "   NumberOfDependents  \n",
       "0                 0.0  \n",
       "1                 2.0  \n",
       "2                 2.0  \n",
       "3                 0.0  \n",
       "4                 1.0  "
      ]
     },
     "execution_count": 6,
     "metadata": {},
     "output_type": "execute_result"
    }
   ],
   "source": [
    "test.head()"
   ]
  },
  {
   "cell_type": "code",
   "execution_count": 7,
   "id": "a451808a",
   "metadata": {},
   "outputs": [],
   "source": [
    "train=train.drop([\"Unnamed: 0\"],axis=1)\n",
    "test=test.drop([\"Unnamed: 0\"],axis=1)"
   ]
  },
  {
   "cell_type": "code",
   "execution_count": 8,
   "id": "323f34bd",
   "metadata": {},
   "outputs": [
    {
     "data": {
      "text/plain": [
       "False    149391\n",
       "True        609\n",
       "dtype: int64"
      ]
     },
     "execution_count": 8,
     "metadata": {},
     "output_type": "execute_result"
    }
   ],
   "source": [
    "#Check for duplicates\n",
    "train.duplicated().value_counts()"
   ]
  },
  {
   "cell_type": "code",
   "execution_count": 9,
   "id": "cfbb748d",
   "metadata": {},
   "outputs": [],
   "source": [
    "train_redup=train.drop_duplicates()"
   ]
  },
  {
   "cell_type": "code",
   "execution_count": 10,
   "id": "b90f175d",
   "metadata": {},
   "outputs": [
    {
     "data": {
      "text/plain": [
       "False    149391\n",
       "dtype: int64"
      ]
     },
     "execution_count": 10,
     "metadata": {},
     "output_type": "execute_result"
    }
   ],
   "source": [
    "train_redup.duplicated().value_counts()"
   ]
  },
  {
   "cell_type": "code",
   "execution_count": 11,
   "id": "938a5981",
   "metadata": {},
   "outputs": [
    {
     "data": {
      "text/plain": [
       "(149391, 11)"
      ]
     },
     "execution_count": 11,
     "metadata": {},
     "output_type": "execute_result"
    }
   ],
   "source": [
    "train_redup.shape"
   ]
  },
  {
   "cell_type": "code",
   "execution_count": 12,
   "id": "5addbcde",
   "metadata": {},
   "outputs": [
    {
     "data": {
      "text/plain": [
       "SeriousDlqin2yrs                            0\n",
       "RevolvingUtilizationOfUnsecuredLines        0\n",
       "age                                         0\n",
       "NumberOfTime30-59DaysPastDueNotWorse        0\n",
       "DebtRatio                                   0\n",
       "MonthlyIncome                           29221\n",
       "NumberOfOpenCreditLinesAndLoans             0\n",
       "NumberOfTimes90DaysLate                     0\n",
       "NumberRealEstateLoansOrLines                0\n",
       "NumberOfTime60-89DaysPastDueNotWorse        0\n",
       "NumberOfDependents                       3828\n",
       "dtype: int64"
      ]
     },
     "execution_count": 12,
     "metadata": {},
     "output_type": "execute_result"
    }
   ],
   "source": [
    "#Checking null values\n",
    "train_redup.isnull().sum()"
   ]
  },
  {
   "cell_type": "code",
   "execution_count": 13,
   "id": "fd4efbe9",
   "metadata": {},
   "outputs": [],
   "source": [
    "#calculate percentage of misssing value\n",
    "def FindMiss(df):\n",
    "    return round(df.isnull().sum()/df.shape[0]*100,2)"
   ]
  },
  {
   "cell_type": "code",
   "execution_count": 14,
   "id": "ad110a0a",
   "metadata": {},
   "outputs": [
    {
     "data": {
      "text/plain": [
       "SeriousDlqin2yrs                         0.00\n",
       "RevolvingUtilizationOfUnsecuredLines     0.00\n",
       "age                                      0.00\n",
       "NumberOfTime30-59DaysPastDueNotWorse     0.00\n",
       "DebtRatio                                0.00\n",
       "MonthlyIncome                           19.56\n",
       "NumberOfOpenCreditLinesAndLoans          0.00\n",
       "NumberOfTimes90DaysLate                  0.00\n",
       "NumberRealEstateLoansOrLines             0.00\n",
       "NumberOfTime60-89DaysPastDueNotWorse     0.00\n",
       "NumberOfDependents                       2.56\n",
       "dtype: float64"
      ]
     },
     "execution_count": 14,
     "metadata": {},
     "output_type": "execute_result"
    }
   ],
   "source": [
    "FindMiss(train_redup)"
   ]
  },
  {
   "cell_type": "code",
   "execution_count": 15,
   "id": "222775ba",
   "metadata": {},
   "outputs": [
    {
     "data": {
      "text/html": [
       "<div>\n",
       "<style scoped>\n",
       "    .dataframe tbody tr th:only-of-type {\n",
       "        vertical-align: middle;\n",
       "    }\n",
       "\n",
       "    .dataframe tbody tr th {\n",
       "        vertical-align: top;\n",
       "    }\n",
       "\n",
       "    .dataframe thead th {\n",
       "        text-align: right;\n",
       "    }\n",
       "</style>\n",
       "<table border=\"1\" class=\"dataframe\">\n",
       "  <thead>\n",
       "    <tr style=\"text-align: right;\">\n",
       "      <th></th>\n",
       "      <th>SeriousDlqin2yrs</th>\n",
       "      <th>RevolvingUtilizationOfUnsecuredLines</th>\n",
       "      <th>age</th>\n",
       "      <th>NumberOfTime30-59DaysPastDueNotWorse</th>\n",
       "      <th>DebtRatio</th>\n",
       "      <th>MonthlyIncome</th>\n",
       "      <th>NumberOfOpenCreditLinesAndLoans</th>\n",
       "      <th>NumberOfTimes90DaysLate</th>\n",
       "      <th>NumberRealEstateLoansOrLines</th>\n",
       "      <th>NumberOfTime60-89DaysPastDueNotWorse</th>\n",
       "      <th>NumberOfDependents</th>\n",
       "    </tr>\n",
       "  </thead>\n",
       "  <tbody>\n",
       "    <tr>\n",
       "      <th>8</th>\n",
       "      <td>0</td>\n",
       "      <td>0.116951</td>\n",
       "      <td>27</td>\n",
       "      <td>0</td>\n",
       "      <td>46.0</td>\n",
       "      <td>NaN</td>\n",
       "      <td>2</td>\n",
       "      <td>0</td>\n",
       "      <td>0</td>\n",
       "      <td>0</td>\n",
       "      <td>NaN</td>\n",
       "    </tr>\n",
       "    <tr>\n",
       "      <th>96</th>\n",
       "      <td>0</td>\n",
       "      <td>0.542243</td>\n",
       "      <td>48</td>\n",
       "      <td>2</td>\n",
       "      <td>10.0</td>\n",
       "      <td>NaN</td>\n",
       "      <td>2</td>\n",
       "      <td>0</td>\n",
       "      <td>0</td>\n",
       "      <td>0</td>\n",
       "      <td>NaN</td>\n",
       "    </tr>\n",
       "    <tr>\n",
       "      <th>109</th>\n",
       "      <td>0</td>\n",
       "      <td>0.041258</td>\n",
       "      <td>61</td>\n",
       "      <td>0</td>\n",
       "      <td>4739.0</td>\n",
       "      <td>NaN</td>\n",
       "      <td>11</td>\n",
       "      <td>0</td>\n",
       "      <td>4</td>\n",
       "      <td>0</td>\n",
       "      <td>NaN</td>\n",
       "    </tr>\n",
       "    <tr>\n",
       "      <th>159</th>\n",
       "      <td>0</td>\n",
       "      <td>0.000000</td>\n",
       "      <td>63</td>\n",
       "      <td>0</td>\n",
       "      <td>2.0</td>\n",
       "      <td>NaN</td>\n",
       "      <td>4</td>\n",
       "      <td>0</td>\n",
       "      <td>0</td>\n",
       "      <td>0</td>\n",
       "      <td>NaN</td>\n",
       "    </tr>\n",
       "    <tr>\n",
       "      <th>238</th>\n",
       "      <td>0</td>\n",
       "      <td>1.000000</td>\n",
       "      <td>28</td>\n",
       "      <td>0</td>\n",
       "      <td>0.0</td>\n",
       "      <td>NaN</td>\n",
       "      <td>0</td>\n",
       "      <td>0</td>\n",
       "      <td>0</td>\n",
       "      <td>0</td>\n",
       "      <td>NaN</td>\n",
       "    </tr>\n",
       "    <tr>\n",
       "      <th>...</th>\n",
       "      <td>...</td>\n",
       "      <td>...</td>\n",
       "      <td>...</td>\n",
       "      <td>...</td>\n",
       "      <td>...</td>\n",
       "      <td>...</td>\n",
       "      <td>...</td>\n",
       "      <td>...</td>\n",
       "      <td>...</td>\n",
       "      <td>...</td>\n",
       "      <td>...</td>\n",
       "    </tr>\n",
       "    <tr>\n",
       "      <th>149826</th>\n",
       "      <td>0</td>\n",
       "      <td>0.027319</td>\n",
       "      <td>71</td>\n",
       "      <td>0</td>\n",
       "      <td>1419.0</td>\n",
       "      <td>NaN</td>\n",
       "      <td>13</td>\n",
       "      <td>0</td>\n",
       "      <td>1</td>\n",
       "      <td>0</td>\n",
       "      <td>NaN</td>\n",
       "    </tr>\n",
       "    <tr>\n",
       "      <th>149854</th>\n",
       "      <td>0</td>\n",
       "      <td>0.056589</td>\n",
       "      <td>75</td>\n",
       "      <td>0</td>\n",
       "      <td>8.0</td>\n",
       "      <td>NaN</td>\n",
       "      <td>3</td>\n",
       "      <td>0</td>\n",
       "      <td>0</td>\n",
       "      <td>0</td>\n",
       "      <td>NaN</td>\n",
       "    </tr>\n",
       "    <tr>\n",
       "      <th>149894</th>\n",
       "      <td>0</td>\n",
       "      <td>0.017904</td>\n",
       "      <td>55</td>\n",
       "      <td>0</td>\n",
       "      <td>1058.0</td>\n",
       "      <td>NaN</td>\n",
       "      <td>8</td>\n",
       "      <td>0</td>\n",
       "      <td>1</td>\n",
       "      <td>1</td>\n",
       "      <td>NaN</td>\n",
       "    </tr>\n",
       "    <tr>\n",
       "      <th>149948</th>\n",
       "      <td>0</td>\n",
       "      <td>0.055530</td>\n",
       "      <td>27</td>\n",
       "      <td>0</td>\n",
       "      <td>10.0</td>\n",
       "      <td>NaN</td>\n",
       "      <td>1</td>\n",
       "      <td>0</td>\n",
       "      <td>0</td>\n",
       "      <td>0</td>\n",
       "      <td>NaN</td>\n",
       "    </tr>\n",
       "    <tr>\n",
       "      <th>149965</th>\n",
       "      <td>0</td>\n",
       "      <td>1.000000</td>\n",
       "      <td>27</td>\n",
       "      <td>0</td>\n",
       "      <td>98.0</td>\n",
       "      <td>NaN</td>\n",
       "      <td>2</td>\n",
       "      <td>0</td>\n",
       "      <td>0</td>\n",
       "      <td>0</td>\n",
       "      <td>NaN</td>\n",
       "    </tr>\n",
       "  </tbody>\n",
       "</table>\n",
       "<p>3828 rows × 11 columns</p>\n",
       "</div>"
      ],
      "text/plain": [
       "        SeriousDlqin2yrs  RevolvingUtilizationOfUnsecuredLines  age  \\\n",
       "8                      0                              0.116951   27   \n",
       "96                     0                              0.542243   48   \n",
       "109                    0                              0.041258   61   \n",
       "159                    0                              0.000000   63   \n",
       "238                    0                              1.000000   28   \n",
       "...                  ...                                   ...  ...   \n",
       "149826                 0                              0.027319   71   \n",
       "149854                 0                              0.056589   75   \n",
       "149894                 0                              0.017904   55   \n",
       "149948                 0                              0.055530   27   \n",
       "149965                 0                              1.000000   27   \n",
       "\n",
       "        NumberOfTime30-59DaysPastDueNotWorse  DebtRatio  MonthlyIncome  \\\n",
       "8                                          0       46.0            NaN   \n",
       "96                                         2       10.0            NaN   \n",
       "109                                        0     4739.0            NaN   \n",
       "159                                        0        2.0            NaN   \n",
       "238                                        0        0.0            NaN   \n",
       "...                                      ...        ...            ...   \n",
       "149826                                     0     1419.0            NaN   \n",
       "149854                                     0        8.0            NaN   \n",
       "149894                                     0     1058.0            NaN   \n",
       "149948                                     0       10.0            NaN   \n",
       "149965                                     0       98.0            NaN   \n",
       "\n",
       "        NumberOfOpenCreditLinesAndLoans  NumberOfTimes90DaysLate  \\\n",
       "8                                     2                        0   \n",
       "96                                    2                        0   \n",
       "109                                  11                        0   \n",
       "159                                   4                        0   \n",
       "238                                   0                        0   \n",
       "...                                 ...                      ...   \n",
       "149826                               13                        0   \n",
       "149854                                3                        0   \n",
       "149894                                8                        0   \n",
       "149948                                1                        0   \n",
       "149965                                2                        0   \n",
       "\n",
       "        NumberRealEstateLoansOrLines  NumberOfTime60-89DaysPastDueNotWorse  \\\n",
       "8                                  0                                     0   \n",
       "96                                 0                                     0   \n",
       "109                                4                                     0   \n",
       "159                                0                                     0   \n",
       "238                                0                                     0   \n",
       "...                              ...                                   ...   \n",
       "149826                             1                                     0   \n",
       "149854                             0                                     0   \n",
       "149894                             1                                     1   \n",
       "149948                             0                                     0   \n",
       "149965                             0                                     0   \n",
       "\n",
       "        NumberOfDependents  \n",
       "8                      NaN  \n",
       "96                     NaN  \n",
       "109                    NaN  \n",
       "159                    NaN  \n",
       "238                    NaN  \n",
       "...                    ...  \n",
       "149826                 NaN  \n",
       "149854                 NaN  \n",
       "149894                 NaN  \n",
       "149948                 NaN  \n",
       "149965                 NaN  \n",
       "\n",
       "[3828 rows x 11 columns]"
      ]
     },
     "execution_count": 15,
     "metadata": {},
     "output_type": "execute_result"
    }
   ],
   "source": [
    "train_redup[train_redup.NumberOfDependents.isnull()]\n",
    "\n",
    "#here we can see that when there is missing value in \"NumberOfDependents\" then there is missing value in \"MonthlyIncome\" also\n"
   ]
  },
  {
   "cell_type": "code",
   "execution_count": 16,
   "id": "707ac8c0",
   "metadata": {},
   "outputs": [
    {
     "data": {
      "text/html": [
       "<div>\n",
       "<style scoped>\n",
       "    .dataframe tbody tr th:only-of-type {\n",
       "        vertical-align: middle;\n",
       "    }\n",
       "\n",
       "    .dataframe tbody tr th {\n",
       "        vertical-align: top;\n",
       "    }\n",
       "\n",
       "    .dataframe thead th {\n",
       "        text-align: right;\n",
       "    }\n",
       "</style>\n",
       "<table border=\"1\" class=\"dataframe\">\n",
       "  <thead>\n",
       "    <tr style=\"text-align: right;\">\n",
       "      <th></th>\n",
       "      <th>SeriousDlqin2yrs</th>\n",
       "      <th>RevolvingUtilizationOfUnsecuredLines</th>\n",
       "      <th>age</th>\n",
       "      <th>NumberOfTime30-59DaysPastDueNotWorse</th>\n",
       "      <th>DebtRatio</th>\n",
       "      <th>MonthlyIncome</th>\n",
       "      <th>NumberOfOpenCreditLinesAndLoans</th>\n",
       "      <th>NumberOfTimes90DaysLate</th>\n",
       "      <th>NumberRealEstateLoansOrLines</th>\n",
       "      <th>NumberOfTime60-89DaysPastDueNotWorse</th>\n",
       "      <th>NumberOfDependents</th>\n",
       "    </tr>\n",
       "  </thead>\n",
       "  <tbody>\n",
       "    <tr>\n",
       "      <th>6</th>\n",
       "      <td>0</td>\n",
       "      <td>0.305682</td>\n",
       "      <td>57</td>\n",
       "      <td>0</td>\n",
       "      <td>5710.0</td>\n",
       "      <td>NaN</td>\n",
       "      <td>8</td>\n",
       "      <td>0</td>\n",
       "      <td>3</td>\n",
       "      <td>0</td>\n",
       "      <td>0.0</td>\n",
       "    </tr>\n",
       "    <tr>\n",
       "      <th>8</th>\n",
       "      <td>0</td>\n",
       "      <td>0.116951</td>\n",
       "      <td>27</td>\n",
       "      <td>0</td>\n",
       "      <td>46.0</td>\n",
       "      <td>NaN</td>\n",
       "      <td>2</td>\n",
       "      <td>0</td>\n",
       "      <td>0</td>\n",
       "      <td>0</td>\n",
       "      <td>NaN</td>\n",
       "    </tr>\n",
       "    <tr>\n",
       "      <th>16</th>\n",
       "      <td>0</td>\n",
       "      <td>0.061086</td>\n",
       "      <td>78</td>\n",
       "      <td>0</td>\n",
       "      <td>2058.0</td>\n",
       "      <td>NaN</td>\n",
       "      <td>10</td>\n",
       "      <td>0</td>\n",
       "      <td>2</td>\n",
       "      <td>0</td>\n",
       "      <td>0.0</td>\n",
       "    </tr>\n",
       "    <tr>\n",
       "      <th>32</th>\n",
       "      <td>0</td>\n",
       "      <td>0.083418</td>\n",
       "      <td>62</td>\n",
       "      <td>0</td>\n",
       "      <td>977.0</td>\n",
       "      <td>NaN</td>\n",
       "      <td>6</td>\n",
       "      <td>0</td>\n",
       "      <td>1</td>\n",
       "      <td>0</td>\n",
       "      <td>0.0</td>\n",
       "    </tr>\n",
       "    <tr>\n",
       "      <th>41</th>\n",
       "      <td>0</td>\n",
       "      <td>0.072898</td>\n",
       "      <td>81</td>\n",
       "      <td>0</td>\n",
       "      <td>75.0</td>\n",
       "      <td>NaN</td>\n",
       "      <td>7</td>\n",
       "      <td>0</td>\n",
       "      <td>0</td>\n",
       "      <td>0</td>\n",
       "      <td>0.0</td>\n",
       "    </tr>\n",
       "    <tr>\n",
       "      <th>...</th>\n",
       "      <td>...</td>\n",
       "      <td>...</td>\n",
       "      <td>...</td>\n",
       "      <td>...</td>\n",
       "      <td>...</td>\n",
       "      <td>...</td>\n",
       "      <td>...</td>\n",
       "      <td>...</td>\n",
       "      <td>...</td>\n",
       "      <td>...</td>\n",
       "      <td>...</td>\n",
       "    </tr>\n",
       "    <tr>\n",
       "      <th>149976</th>\n",
       "      <td>0</td>\n",
       "      <td>0.000627</td>\n",
       "      <td>76</td>\n",
       "      <td>0</td>\n",
       "      <td>60.0</td>\n",
       "      <td>NaN</td>\n",
       "      <td>5</td>\n",
       "      <td>0</td>\n",
       "      <td>0</td>\n",
       "      <td>0</td>\n",
       "      <td>0.0</td>\n",
       "    </tr>\n",
       "    <tr>\n",
       "      <th>149977</th>\n",
       "      <td>0</td>\n",
       "      <td>0.236450</td>\n",
       "      <td>29</td>\n",
       "      <td>0</td>\n",
       "      <td>349.0</td>\n",
       "      <td>NaN</td>\n",
       "      <td>3</td>\n",
       "      <td>0</td>\n",
       "      <td>0</td>\n",
       "      <td>0</td>\n",
       "      <td>0.0</td>\n",
       "    </tr>\n",
       "    <tr>\n",
       "      <th>149984</th>\n",
       "      <td>0</td>\n",
       "      <td>0.037548</td>\n",
       "      <td>84</td>\n",
       "      <td>0</td>\n",
       "      <td>25.0</td>\n",
       "      <td>NaN</td>\n",
       "      <td>5</td>\n",
       "      <td>0</td>\n",
       "      <td>0</td>\n",
       "      <td>0</td>\n",
       "      <td>0.0</td>\n",
       "    </tr>\n",
       "    <tr>\n",
       "      <th>149992</th>\n",
       "      <td>0</td>\n",
       "      <td>0.871976</td>\n",
       "      <td>50</td>\n",
       "      <td>0</td>\n",
       "      <td>4132.0</td>\n",
       "      <td>NaN</td>\n",
       "      <td>11</td>\n",
       "      <td>0</td>\n",
       "      <td>1</td>\n",
       "      <td>0</td>\n",
       "      <td>3.0</td>\n",
       "    </tr>\n",
       "    <tr>\n",
       "      <th>149997</th>\n",
       "      <td>0</td>\n",
       "      <td>0.246044</td>\n",
       "      <td>58</td>\n",
       "      <td>0</td>\n",
       "      <td>3870.0</td>\n",
       "      <td>NaN</td>\n",
       "      <td>18</td>\n",
       "      <td>0</td>\n",
       "      <td>1</td>\n",
       "      <td>0</td>\n",
       "      <td>0.0</td>\n",
       "    </tr>\n",
       "  </tbody>\n",
       "</table>\n",
       "<p>29221 rows × 11 columns</p>\n",
       "</div>"
      ],
      "text/plain": [
       "        SeriousDlqin2yrs  RevolvingUtilizationOfUnsecuredLines  age  \\\n",
       "6                      0                              0.305682   57   \n",
       "8                      0                              0.116951   27   \n",
       "16                     0                              0.061086   78   \n",
       "32                     0                              0.083418   62   \n",
       "41                     0                              0.072898   81   \n",
       "...                  ...                                   ...  ...   \n",
       "149976                 0                              0.000627   76   \n",
       "149977                 0                              0.236450   29   \n",
       "149984                 0                              0.037548   84   \n",
       "149992                 0                              0.871976   50   \n",
       "149997                 0                              0.246044   58   \n",
       "\n",
       "        NumberOfTime30-59DaysPastDueNotWorse  DebtRatio  MonthlyIncome  \\\n",
       "6                                          0     5710.0            NaN   \n",
       "8                                          0       46.0            NaN   \n",
       "16                                         0     2058.0            NaN   \n",
       "32                                         0      977.0            NaN   \n",
       "41                                         0       75.0            NaN   \n",
       "...                                      ...        ...            ...   \n",
       "149976                                     0       60.0            NaN   \n",
       "149977                                     0      349.0            NaN   \n",
       "149984                                     0       25.0            NaN   \n",
       "149992                                     0     4132.0            NaN   \n",
       "149997                                     0     3870.0            NaN   \n",
       "\n",
       "        NumberOfOpenCreditLinesAndLoans  NumberOfTimes90DaysLate  \\\n",
       "6                                     8                        0   \n",
       "8                                     2                        0   \n",
       "16                                   10                        0   \n",
       "32                                    6                        0   \n",
       "41                                    7                        0   \n",
       "...                                 ...                      ...   \n",
       "149976                                5                        0   \n",
       "149977                                3                        0   \n",
       "149984                                5                        0   \n",
       "149992                               11                        0   \n",
       "149997                               18                        0   \n",
       "\n",
       "        NumberRealEstateLoansOrLines  NumberOfTime60-89DaysPastDueNotWorse  \\\n",
       "6                                  3                                     0   \n",
       "8                                  0                                     0   \n",
       "16                                 2                                     0   \n",
       "32                                 1                                     0   \n",
       "41                                 0                                     0   \n",
       "...                              ...                                   ...   \n",
       "149976                             0                                     0   \n",
       "149977                             0                                     0   \n",
       "149984                             0                                     0   \n",
       "149992                             1                                     0   \n",
       "149997                             1                                     0   \n",
       "\n",
       "        NumberOfDependents  \n",
       "6                      0.0  \n",
       "8                      NaN  \n",
       "16                     0.0  \n",
       "32                     0.0  \n",
       "41                     0.0  \n",
       "...                    ...  \n",
       "149976                 0.0  \n",
       "149977                 0.0  \n",
       "149984                 0.0  \n",
       "149992                 3.0  \n",
       "149997                 0.0  \n",
       "\n",
       "[29221 rows x 11 columns]"
      ]
     },
     "execution_count": 16,
     "metadata": {},
     "output_type": "execute_result"
    }
   ],
   "source": [
    "train_redup[train_redup.MonthlyIncome.isnull()]"
   ]
  },
  {
   "cell_type": "code",
   "execution_count": 17,
   "id": "f87005b6",
   "metadata": {},
   "outputs": [
    {
     "data": {
      "text/html": [
       "<div>\n",
       "<style scoped>\n",
       "    .dataframe tbody tr th:only-of-type {\n",
       "        vertical-align: middle;\n",
       "    }\n",
       "\n",
       "    .dataframe tbody tr th {\n",
       "        vertical-align: top;\n",
       "    }\n",
       "\n",
       "    .dataframe thead th {\n",
       "        text-align: right;\n",
       "    }\n",
       "</style>\n",
       "<table border=\"1\" class=\"dataframe\">\n",
       "  <thead>\n",
       "    <tr style=\"text-align: right;\">\n",
       "      <th></th>\n",
       "      <th>mode</th>\n",
       "    </tr>\n",
       "  </thead>\n",
       "  <tbody>\n",
       "    <tr>\n",
       "      <th>0</th>\n",
       "      <td>0.0</td>\n",
       "    </tr>\n",
       "  </tbody>\n",
       "</table>\n",
       "</div>"
      ],
      "text/plain": [
       "   mode\n",
       "0   0.0"
      ]
     },
     "execution_count": 17,
     "metadata": {},
     "output_type": "execute_result"
    }
   ],
   "source": [
    "train_redup[\"NumberOfDependents\"].agg([\"mode\"])\n",
    "#it means most of the rows has 0 dependants"
   ]
  },
  {
   "cell_type": "code",
   "execution_count": 18,
   "id": "01be0915",
   "metadata": {},
   "outputs": [
    {
     "data": {
      "text/plain": [
       "0.0     86392\n",
       "1.0     26314\n",
       "2.0     19521\n",
       "3.0      9483\n",
       "4.0      2862\n",
       "5.0       746\n",
       "6.0       158\n",
       "7.0        51\n",
       "8.0        24\n",
       "10.0        5\n",
       "9.0         5\n",
       "20.0        1\n",
       "13.0        1\n",
       "Name: NumberOfDependents, dtype: int64"
      ]
     },
     "execution_count": 18,
     "metadata": {},
     "output_type": "execute_result"
    }
   ],
   "source": [
    "train_redup[\"NumberOfDependents\"].value_counts()\n",
    "#most of the customer have zero dependants"
   ]
  },
  {
   "cell_type": "code",
   "execution_count": 19,
   "id": "bbf0f869",
   "metadata": {},
   "outputs": [],
   "source": [
    "#here we can see that when there is missing value in \"NumberOfDependents\" then there is missing value in \"MonthlyIncome\" also\n",
    "#so we are replacing missing values of \"MonthlyIncome\" column with 0 if we put anoother value it may misslead"
   ]
  },
  {
   "cell_type": "code",
   "execution_count": 20,
   "id": "3552c2be",
   "metadata": {},
   "outputs": [],
   "source": [
    "#when \"NumberOfDependents\" is null\n",
    "fam_miss=train_redup[train_redup.NumberOfDependents.isnull()]"
   ]
  },
  {
   "cell_type": "code",
   "execution_count": 21,
   "id": "81cbcb03",
   "metadata": {},
   "outputs": [],
   "source": [
    "#when \"NumberOfDependents\" is notnull\n",
    "fam_nmiss=train_redup[train_redup.NumberOfDependents.notnull()]"
   ]
  },
  {
   "cell_type": "code",
   "execution_count": 22,
   "id": "987d564d",
   "metadata": {},
   "outputs": [
    {
     "name": "stderr",
     "output_type": "stream",
     "text": [
      "C:\\Users\\DELL\\AppData\\Local\\Temp/ipykernel_8904/2310187038.py:2: SettingWithCopyWarning: \n",
      "A value is trying to be set on a copy of a slice from a DataFrame.\n",
      "Try using .loc[row_indexer,col_indexer] = value instead\n",
      "\n",
      "See the caveats in the documentation: https://pandas.pydata.org/pandas-docs/stable/user_guide/indexing.html#returning-a-view-versus-a-copy\n",
      "  fam_miss[\"NumberOfDependents\"] = fam_miss[\"NumberOfDependents\"].fillna(0)\n",
      "C:\\Users\\DELL\\AppData\\Local\\Temp/ipykernel_8904/2310187038.py:5: SettingWithCopyWarning: \n",
      "A value is trying to be set on a copy of a slice from a DataFrame.\n",
      "Try using .loc[row_indexer,col_indexer] = value instead\n",
      "\n",
      "See the caveats in the documentation: https://pandas.pydata.org/pandas-docs/stable/user_guide/indexing.html#returning-a-view-versus-a-copy\n",
      "  fam_miss[\"MonthlyIncome\"] = fam_miss[\"MonthlyIncome\"].fillna(0)\n"
     ]
    }
   ],
   "source": [
    "#when \"NumberOfDependents\" are missing then replace that with 0 in \"NumberOfDependents\" column\n",
    "fam_miss[\"NumberOfDependents\"] = fam_miss[\"NumberOfDependents\"].fillna(0)\n",
    "\n",
    "#when \"NumberOfDependents\" are missing then replace it with 0 in column \"MonthlyIncome\"\n",
    "fam_miss[\"MonthlyIncome\"] = fam_miss[\"MonthlyIncome\"].fillna(0)"
   ]
  },
  {
   "cell_type": "code",
   "execution_count": 23,
   "id": "86fac41d",
   "metadata": {},
   "outputs": [
    {
     "data": {
      "text/plain": [
       "SeriousDlqin2yrs                        0.0\n",
       "RevolvingUtilizationOfUnsecuredLines    0.0\n",
       "age                                     0.0\n",
       "NumberOfTime30-59DaysPastDueNotWorse    0.0\n",
       "DebtRatio                               0.0\n",
       "MonthlyIncome                           0.0\n",
       "NumberOfOpenCreditLinesAndLoans         0.0\n",
       "NumberOfTimes90DaysLate                 0.0\n",
       "NumberRealEstateLoansOrLines            0.0\n",
       "NumberOfTime60-89DaysPastDueNotWorse    0.0\n",
       "NumberOfDependents                      0.0\n",
       "dtype: float64"
      ]
     },
     "execution_count": 23,
     "metadata": {},
     "output_type": "execute_result"
    }
   ],
   "source": [
    "FindMiss(fam_miss)"
   ]
  },
  {
   "cell_type": "code",
   "execution_count": 24,
   "id": "f3a7b3b1",
   "metadata": {},
   "outputs": [
    {
     "data": {
      "text/plain": [
       "SeriousDlqin2yrs                         0.00\n",
       "RevolvingUtilizationOfUnsecuredLines     0.00\n",
       "age                                      0.00\n",
       "NumberOfTime30-59DaysPastDueNotWorse     0.00\n",
       "DebtRatio                                0.00\n",
       "MonthlyIncome                           17.44\n",
       "NumberOfOpenCreditLinesAndLoans          0.00\n",
       "NumberOfTimes90DaysLate                  0.00\n",
       "NumberRealEstateLoansOrLines             0.00\n",
       "NumberOfTime60-89DaysPastDueNotWorse     0.00\n",
       "NumberOfDependents                       0.00\n",
       "dtype: float64"
      ]
     },
     "execution_count": 24,
     "metadata": {},
     "output_type": "execute_result"
    }
   ],
   "source": [
    "FindMiss(fam_nmiss)"
   ]
  },
  {
   "cell_type": "code",
   "execution_count": 25,
   "id": "9ee98718",
   "metadata": {},
   "outputs": [
    {
     "name": "stderr",
     "output_type": "stream",
     "text": [
      "C:\\Users\\DELL\\anaconda3\\lib\\site-packages\\seaborn\\_decorators.py:36: FutureWarning: Pass the following variable as a keyword arg: x. From version 0.12, the only valid positional argument will be `data`, and passing other arguments without an explicit keyword will result in an error or misinterpretation.\n",
      "  warnings.warn(\n"
     ]
    },
    {
     "data": {
      "text/plain": [
       "<AxesSubplot:xlabel='MonthlyIncome'>"
      ]
     },
     "execution_count": 25,
     "metadata": {},
     "output_type": "execute_result"
    },
    {
     "data": {
      "image/png": "[encoded data removed]",
      "text/plain": [
       "<Figure size 432x288 with 1 Axes>"
      ]
     },
     "metadata": {
      "needs_background": "light"
     },
     "output_type": "display_data"
    }
   ],
   "source": [
    "#as there are some outliers so we cant replace it with mean so replacing \"MonthlyIncome\" with median where \"NumberOfDependents\" is not null\n",
    "sns.boxplot(fam_nmiss[\"MonthlyIncome\"])\n"
   ]
  },
  {
   "cell_type": "code",
   "execution_count": 26,
   "id": "659d4c76",
   "metadata": {},
   "outputs": [
    {
     "name": "stderr",
     "output_type": "stream",
     "text": [
      "C:\\Users\\DELL\\AppData\\Local\\Temp/ipykernel_8904/83908473.py:1: SettingWithCopyWarning: \n",
      "A value is trying to be set on a copy of a slice from a DataFrame.\n",
      "Try using .loc[row_indexer,col_indexer] = value instead\n",
      "\n",
      "See the caveats in the documentation: https://pandas.pydata.org/pandas-docs/stable/user_guide/indexing.html#returning-a-view-versus-a-copy\n",
      "  fam_nmiss[\"MonthlyIncome\"]=fam_nmiss[\"MonthlyIncome\"].fillna(fam_nmiss[\"MonthlyIncome\"].median())\n"
     ]
    }
   ],
   "source": [
    "fam_nmiss[\"MonthlyIncome\"]=fam_nmiss[\"MonthlyIncome\"].fillna(fam_nmiss[\"MonthlyIncome\"].median())"
   ]
  },
  {
   "cell_type": "code",
   "execution_count": 27,
   "id": "e3e9ca29",
   "metadata": {},
   "outputs": [
    {
     "data": {
      "text/plain": [
       "SeriousDlqin2yrs                        0.0\n",
       "RevolvingUtilizationOfUnsecuredLines    0.0\n",
       "age                                     0.0\n",
       "NumberOfTime30-59DaysPastDueNotWorse    0.0\n",
       "DebtRatio                               0.0\n",
       "MonthlyIncome                           0.0\n",
       "NumberOfOpenCreditLinesAndLoans         0.0\n",
       "NumberOfTimes90DaysLate                 0.0\n",
       "NumberRealEstateLoansOrLines            0.0\n",
       "NumberOfTime60-89DaysPastDueNotWorse    0.0\n",
       "NumberOfDependents                      0.0\n",
       "dtype: float64"
      ]
     },
     "execution_count": 27,
     "metadata": {},
     "output_type": "execute_result"
    }
   ],
   "source": [
    "FindMiss(fam_nmiss)"
   ]
  },
  {
   "cell_type": "code",
   "execution_count": 28,
   "id": "92071590",
   "metadata": {},
   "outputs": [],
   "source": [
    "#combining both fam_nmiss and fam_miss dataframe\n",
    "filled_train=fam_miss.append(fam_nmiss)\n"
   ]
  },
  {
   "cell_type": "code",
   "execution_count": 29,
   "id": "bd296adc",
   "metadata": {},
   "outputs": [
    {
     "data": {
      "text/plain": [
       "(149391, 11)"
      ]
     },
     "execution_count": 29,
     "metadata": {},
     "output_type": "execute_result"
    }
   ],
   "source": [
    "filled_train.shape"
   ]
  },
  {
   "cell_type": "code",
   "execution_count": 30,
   "id": "3a7353ee",
   "metadata": {},
   "outputs": [
    {
     "data": {
      "text/html": [
       "<div>\n",
       "<style scoped>\n",
       "    .dataframe tbody tr th:only-of-type {\n",
       "        vertical-align: middle;\n",
       "    }\n",
       "\n",
       "    .dataframe tbody tr th {\n",
       "        vertical-align: top;\n",
       "    }\n",
       "\n",
       "    .dataframe thead th {\n",
       "        text-align: right;\n",
       "    }\n",
       "</style>\n",
       "<table border=\"1\" class=\"dataframe\">\n",
       "  <thead>\n",
       "    <tr style=\"text-align: right;\">\n",
       "      <th></th>\n",
       "      <th>SeriousDlqin2yrs</th>\n",
       "      <th>RevolvingUtilizationOfUnsecuredLines</th>\n",
       "      <th>age</th>\n",
       "      <th>NumberOfTime30-59DaysPastDueNotWorse</th>\n",
       "      <th>DebtRatio</th>\n",
       "      <th>MonthlyIncome</th>\n",
       "      <th>NumberOfOpenCreditLinesAndLoans</th>\n",
       "      <th>NumberOfTimes90DaysLate</th>\n",
       "      <th>NumberRealEstateLoansOrLines</th>\n",
       "      <th>NumberOfTime60-89DaysPastDueNotWorse</th>\n",
       "      <th>NumberOfDependents</th>\n",
       "    </tr>\n",
       "  </thead>\n",
       "  <tbody>\n",
       "    <tr>\n",
       "      <th>8</th>\n",
       "      <td>0</td>\n",
       "      <td>0.116951</td>\n",
       "      <td>27</td>\n",
       "      <td>0</td>\n",
       "      <td>46.0</td>\n",
       "      <td>0.0</td>\n",
       "      <td>2</td>\n",
       "      <td>0</td>\n",
       "      <td>0</td>\n",
       "      <td>0</td>\n",
       "      <td>0.0</td>\n",
       "    </tr>\n",
       "    <tr>\n",
       "      <th>96</th>\n",
       "      <td>0</td>\n",
       "      <td>0.542243</td>\n",
       "      <td>48</td>\n",
       "      <td>2</td>\n",
       "      <td>10.0</td>\n",
       "      <td>0.0</td>\n",
       "      <td>2</td>\n",
       "      <td>0</td>\n",
       "      <td>0</td>\n",
       "      <td>0</td>\n",
       "      <td>0.0</td>\n",
       "    </tr>\n",
       "    <tr>\n",
       "      <th>109</th>\n",
       "      <td>0</td>\n",
       "      <td>0.041258</td>\n",
       "      <td>61</td>\n",
       "      <td>0</td>\n",
       "      <td>4739.0</td>\n",
       "      <td>0.0</td>\n",
       "      <td>11</td>\n",
       "      <td>0</td>\n",
       "      <td>4</td>\n",
       "      <td>0</td>\n",
       "      <td>0.0</td>\n",
       "    </tr>\n",
       "    <tr>\n",
       "      <th>159</th>\n",
       "      <td>0</td>\n",
       "      <td>0.000000</td>\n",
       "      <td>63</td>\n",
       "      <td>0</td>\n",
       "      <td>2.0</td>\n",
       "      <td>0.0</td>\n",
       "      <td>4</td>\n",
       "      <td>0</td>\n",
       "      <td>0</td>\n",
       "      <td>0</td>\n",
       "      <td>0.0</td>\n",
       "    </tr>\n",
       "    <tr>\n",
       "      <th>238</th>\n",
       "      <td>0</td>\n",
       "      <td>1.000000</td>\n",
       "      <td>28</td>\n",
       "      <td>0</td>\n",
       "      <td>0.0</td>\n",
       "      <td>0.0</td>\n",
       "      <td>0</td>\n",
       "      <td>0</td>\n",
       "      <td>0</td>\n",
       "      <td>0</td>\n",
       "      <td>0.0</td>\n",
       "    </tr>\n",
       "  </tbody>\n",
       "</table>\n",
       "</div>"
      ],
      "text/plain": [
       "     SeriousDlqin2yrs  RevolvingUtilizationOfUnsecuredLines  age  \\\n",
       "8                   0                              0.116951   27   \n",
       "96                  0                              0.542243   48   \n",
       "109                 0                              0.041258   61   \n",
       "159                 0                              0.000000   63   \n",
       "238                 0                              1.000000   28   \n",
       "\n",
       "     NumberOfTime30-59DaysPastDueNotWorse  DebtRatio  MonthlyIncome  \\\n",
       "8                                       0       46.0            0.0   \n",
       "96                                      2       10.0            0.0   \n",
       "109                                     0     4739.0            0.0   \n",
       "159                                     0        2.0            0.0   \n",
       "238                                     0        0.0            0.0   \n",
       "\n",
       "     NumberOfOpenCreditLinesAndLoans  NumberOfTimes90DaysLate  \\\n",
       "8                                  2                        0   \n",
       "96                                 2                        0   \n",
       "109                               11                        0   \n",
       "159                                4                        0   \n",
       "238                                0                        0   \n",
       "\n",
       "     NumberRealEstateLoansOrLines  NumberOfTime60-89DaysPastDueNotWorse  \\\n",
       "8                               0                                     0   \n",
       "96                              0                                     0   \n",
       "109                             4                                     0   \n",
       "159                             0                                     0   \n",
       "238                             0                                     0   \n",
       "\n",
       "     NumberOfDependents  \n",
       "8                   0.0  \n",
       "96                  0.0  \n",
       "109                 0.0  \n",
       "159                 0.0  \n",
       "238                 0.0  "
      ]
     },
     "execution_count": 30,
     "metadata": {},
     "output_type": "execute_result"
    }
   ],
   "source": [
    "#Data Analysis\n",
    "filled_train.head()"
   ]
  },
  {
   "cell_type": "code",
   "execution_count": 31,
   "id": "5f5e7f7e",
   "metadata": {},
   "outputs": [
    {
     "data": {
      "text/plain": [
       "SeriousDlqin2yrs\n",
       "0    0.933001\n",
       "1    0.066999\n",
       "dtype: float64"
      ]
     },
     "execution_count": 31,
     "metadata": {},
     "output_type": "execute_result"
    }
   ],
   "source": [
    "#column=\"SeriousDlqin2yrs\" find praportion of defaulter and non defaulter\n",
    "#percentage of defaulter and non defaulter\n",
    "filled_train.groupby([\"SeriousDlqin2yrs\"]).size()/filled_train.shape[0]"
   ]
  },
  {
   "cell_type": "code",
   "execution_count": 32,
   "id": "985b489f",
   "metadata": {},
   "outputs": [
    {
     "data": {
      "text/plain": [
       "count    149391.000000\n",
       "mean          6.071087\n",
       "std         250.263672\n",
       "min           0.000000\n",
       "25%           0.030132\n",
       "50%           0.154235\n",
       "75%           0.556494\n",
       "max       50708.000000\n",
       "Name: RevolvingUtilizationOfUnsecuredLines, dtype: float64"
      ]
     },
     "execution_count": 32,
     "metadata": {},
     "output_type": "execute_result"
    }
   ],
   "source": [
    "#column=\"RevolvingUtilizationOfUnsecuredLines\"\n",
    "filled_train.RevolvingUtilizationOfUnsecuredLines.describe()"
   ]
  },
  {
   "cell_type": "code",
   "execution_count": 33,
   "id": "960ed2a6",
   "metadata": {},
   "outputs": [
    {
     "data": {
      "text/plain": [
       "0.99    1.093922\n",
       "Name: RevolvingUtilizationOfUnsecuredLines, dtype: float64"
      ]
     },
     "execution_count": 33,
     "metadata": {},
     "output_type": "execute_result"
    }
   ],
   "source": [
    "filled_train.RevolvingUtilizationOfUnsecuredLines.quantile([0.99])"
   ]
  },
  {
   "cell_type": "code",
   "execution_count": 34,
   "id": "af5902dc",
   "metadata": {},
   "outputs": [
    {
     "data": {
      "text/html": [
       "<div>\n",
       "<style scoped>\n",
       "    .dataframe tbody tr th:only-of-type {\n",
       "        vertical-align: middle;\n",
       "    }\n",
       "\n",
       "    .dataframe tbody tr th {\n",
       "        vertical-align: top;\n",
       "    }\n",
       "\n",
       "    .dataframe thead th {\n",
       "        text-align: right;\n",
       "    }\n",
       "</style>\n",
       "<table border=\"1\" class=\"dataframe\">\n",
       "  <thead>\n",
       "    <tr style=\"text-align: right;\">\n",
       "      <th></th>\n",
       "      <th>SeriousDlqin2yrs</th>\n",
       "      <th>RevolvingUtilizationOfUnsecuredLines</th>\n",
       "      <th>age</th>\n",
       "      <th>NumberOfTime30-59DaysPastDueNotWorse</th>\n",
       "      <th>DebtRatio</th>\n",
       "      <th>MonthlyIncome</th>\n",
       "      <th>NumberOfOpenCreditLinesAndLoans</th>\n",
       "      <th>NumberOfTimes90DaysLate</th>\n",
       "      <th>NumberRealEstateLoansOrLines</th>\n",
       "      <th>NumberOfTime60-89DaysPastDueNotWorse</th>\n",
       "      <th>NumberOfDependents</th>\n",
       "    </tr>\n",
       "  </thead>\n",
       "  <tbody>\n",
       "    <tr>\n",
       "      <th>count</th>\n",
       "      <td>146053.000000</td>\n",
       "      <td>146053.000000</td>\n",
       "      <td>146053.000000</td>\n",
       "      <td>146053.000000</td>\n",
       "      <td>146053.000000</td>\n",
       "      <td>1.460530e+05</td>\n",
       "      <td>146053.000000</td>\n",
       "      <td>146053.000000</td>\n",
       "      <td>146053.000000</td>\n",
       "      <td>146053.000000</td>\n",
       "      <td>146053.000000</td>\n",
       "    </tr>\n",
       "    <tr>\n",
       "      <th>mean</th>\n",
       "      <td>0.060033</td>\n",
       "      <td>0.302913</td>\n",
       "      <td>52.494827</td>\n",
       "      <td>0.379739</td>\n",
       "      <td>356.946590</td>\n",
       "      <td>6.312113e+03</td>\n",
       "      <td>8.529246</td>\n",
       "      <td>0.229026</td>\n",
       "      <td>1.030188</td>\n",
       "      <td>0.207514</td>\n",
       "      <td>0.736664</td>\n",
       "    </tr>\n",
       "    <tr>\n",
       "      <th>std</th>\n",
       "      <td>0.237549</td>\n",
       "      <td>0.336767</td>\n",
       "      <td>14.715735</td>\n",
       "      <td>3.890212</td>\n",
       "      <td>2060.104556</td>\n",
       "      <td>1.308137e+04</td>\n",
       "      <td>5.148874</td>\n",
       "      <td>3.863995</td>\n",
       "      <td>1.132337</td>\n",
       "      <td>3.851532</td>\n",
       "      <td>1.105854</td>\n",
       "    </tr>\n",
       "    <tr>\n",
       "      <th>min</th>\n",
       "      <td>0.000000</td>\n",
       "      <td>0.000000</td>\n",
       "      <td>0.000000</td>\n",
       "      <td>0.000000</td>\n",
       "      <td>0.000000</td>\n",
       "      <td>0.000000e+00</td>\n",
       "      <td>0.000000</td>\n",
       "      <td>0.000000</td>\n",
       "      <td>0.000000</td>\n",
       "      <td>0.000000</td>\n",
       "      <td>0.000000</td>\n",
       "    </tr>\n",
       "    <tr>\n",
       "      <th>25%</th>\n",
       "      <td>0.000000</td>\n",
       "      <td>0.028834</td>\n",
       "      <td>42.000000</td>\n",
       "      <td>0.000000</td>\n",
       "      <td>0.177355</td>\n",
       "      <td>3.640000e+03</td>\n",
       "      <td>5.000000</td>\n",
       "      <td>0.000000</td>\n",
       "      <td>0.000000</td>\n",
       "      <td>0.000000</td>\n",
       "      <td>0.000000</td>\n",
       "    </tr>\n",
       "    <tr>\n",
       "      <th>50%</th>\n",
       "      <td>0.000000</td>\n",
       "      <td>0.144441</td>\n",
       "      <td>52.000000</td>\n",
       "      <td>0.000000</td>\n",
       "      <td>0.368084</td>\n",
       "      <td>5.400000e+03</td>\n",
       "      <td>8.000000</td>\n",
       "      <td>0.000000</td>\n",
       "      <td>1.000000</td>\n",
       "      <td>0.000000</td>\n",
       "      <td>0.000000</td>\n",
       "    </tr>\n",
       "    <tr>\n",
       "      <th>75%</th>\n",
       "      <td>0.000000</td>\n",
       "      <td>0.517573</td>\n",
       "      <td>63.000000</td>\n",
       "      <td>0.000000</td>\n",
       "      <td>0.877956</td>\n",
       "      <td>7.453000e+03</td>\n",
       "      <td>11.000000</td>\n",
       "      <td>0.000000</td>\n",
       "      <td>2.000000</td>\n",
       "      <td>0.000000</td>\n",
       "      <td>1.000000</td>\n",
       "    </tr>\n",
       "    <tr>\n",
       "      <th>max</th>\n",
       "      <td>1.000000</td>\n",
       "      <td>1.000000</td>\n",
       "      <td>109.000000</td>\n",
       "      <td>98.000000</td>\n",
       "      <td>329664.000000</td>\n",
       "      <td>3.008750e+06</td>\n",
       "      <td>58.000000</td>\n",
       "      <td>98.000000</td>\n",
       "      <td>54.000000</td>\n",
       "      <td>98.000000</td>\n",
       "      <td>20.000000</td>\n",
       "    </tr>\n",
       "  </tbody>\n",
       "</table>\n",
       "</div>"
      ],
      "text/plain": [
       "       SeriousDlqin2yrs  RevolvingUtilizationOfUnsecuredLines            age  \\\n",
       "count     146053.000000                         146053.000000  146053.000000   \n",
       "mean           0.060033                              0.302913      52.494827   \n",
       "std            0.237549                              0.336767      14.715735   \n",
       "min            0.000000                              0.000000       0.000000   \n",
       "25%            0.000000                              0.028834      42.000000   \n",
       "50%            0.000000                              0.144441      52.000000   \n",
       "75%            0.000000                              0.517573      63.000000   \n",
       "max            1.000000                              1.000000     109.000000   \n",
       "\n",
       "       NumberOfTime30-59DaysPastDueNotWorse      DebtRatio  MonthlyIncome  \\\n",
       "count                         146053.000000  146053.000000   1.460530e+05   \n",
       "mean                               0.379739     356.946590   6.312113e+03   \n",
       "std                                3.890212    2060.104556   1.308137e+04   \n",
       "min                                0.000000       0.000000   0.000000e+00   \n",
       "25%                                0.000000       0.177355   3.640000e+03   \n",
       "50%                                0.000000       0.368084   5.400000e+03   \n",
       "75%                                0.000000       0.877956   7.453000e+03   \n",
       "max                               98.000000  329664.000000   3.008750e+06   \n",
       "\n",
       "       NumberOfOpenCreditLinesAndLoans  NumberOfTimes90DaysLate  \\\n",
       "count                    146053.000000            146053.000000   \n",
       "mean                          8.529246                 0.229026   \n",
       "std                           5.148874                 3.863995   \n",
       "min                           0.000000                 0.000000   \n",
       "25%                           5.000000                 0.000000   \n",
       "50%                           8.000000                 0.000000   \n",
       "75%                          11.000000                 0.000000   \n",
       "max                          58.000000                98.000000   \n",
       "\n",
       "       NumberRealEstateLoansOrLines  NumberOfTime60-89DaysPastDueNotWorse  \\\n",
       "count                 146053.000000                         146053.000000   \n",
       "mean                       1.030188                              0.207514   \n",
       "std                        1.132337                              3.851532   \n",
       "min                        0.000000                              0.000000   \n",
       "25%                        0.000000                              0.000000   \n",
       "50%                        1.000000                              0.000000   \n",
       "75%                        2.000000                              0.000000   \n",
       "max                       54.000000                             98.000000   \n",
       "\n",
       "       NumberOfDependents  \n",
       "count       146053.000000  \n",
       "mean             0.736664  \n",
       "std              1.105854  \n",
       "min              0.000000  \n",
       "25%              0.000000  \n",
       "50%              0.000000  \n",
       "75%              1.000000  \n",
       "max             20.000000  "
      ]
     },
     "execution_count": 34,
     "metadata": {},
     "output_type": "execute_result"
    }
   ],
   "source": [
    "filled_train[filled_train['RevolvingUtilizationOfUnsecuredLines']<1].describe()"
   ]
  },
  {
   "cell_type": "code",
   "execution_count": 35,
   "id": "25a104e6",
   "metadata": {},
   "outputs": [
    {
     "data": {
      "text/plain": [
       "SeriousDlqin2yrs\n",
       "0    2084\n",
       "1    1237\n",
       "dtype: int64"
      ]
     },
     "execution_count": 35,
     "metadata": {},
     "output_type": "execute_result"
    }
   ],
   "source": [
    "filled_train[filled_train['RevolvingUtilizationOfUnsecuredLines']>1].groupby([\"SeriousDlqin2yrs\"]).size()"
   ]
  },
  {
   "cell_type": "code",
   "execution_count": 36,
   "id": "2bbb3cef",
   "metadata": {},
   "outputs": [],
   "source": [
    "#droping values >10 from \"RevolvingUtilizationOfUnsecuredLines\" columns\n",
    "util_drop=filled_train.drop(filled_train[filled_train[\"RevolvingUtilizationOfUnsecuredLines\"]>10].index)"
   ]
  },
  {
   "cell_type": "code",
   "execution_count": 37,
   "id": "460fe89f",
   "metadata": {},
   "outputs": [
    {
     "data": {
      "text/plain": [
       "(149150, 11)"
      ]
     },
     "execution_count": 37,
     "metadata": {},
     "output_type": "execute_result"
    }
   ],
   "source": [
    "util_drop.shape"
   ]
  },
  {
   "cell_type": "code",
   "execution_count": 38,
   "id": "96546580",
   "metadata": {},
   "outputs": [
    {
     "name": "stderr",
     "output_type": "stream",
     "text": [
      "C:\\Users\\DELL\\anaconda3\\lib\\site-packages\\seaborn\\_decorators.py:36: FutureWarning: Pass the following variable as a keyword arg: x. From version 0.12, the only valid positional argument will be `data`, and passing other arguments without an explicit keyword will result in an error or misinterpretation.\n",
      "  warnings.warn(\n"
     ]
    },
    {
     "data": {
      "text/plain": [
       "<AxesSubplot:xlabel='age'>"
      ]
     },
     "execution_count": 38,
     "metadata": {},
     "output_type": "execute_result"
    },
    {
     "data": {
      "image/png": "[encoded data removed]",
      "text/plain": [
       "<Figure size 432x288 with 1 Axes>"
      ]
     },
     "metadata": {
      "needs_background": "light"
     },
     "output_type": "display_data"
    }
   ],
   "source": [
    "#column=\"age\"\n",
    "sns.boxplot(util_drop[\"age\"])"
   ]
  },
  {
   "cell_type": "code",
   "execution_count": 39,
   "id": "72133e42",
   "metadata": {},
   "outputs": [
    {
     "data": {
      "text/plain": [
       "NumberOfTime30-59DaysPastDueNotWorse\n",
       "0     125239\n",
       "1      16020\n",
       "2       4588\n",
       "3       1750\n",
       "4        747\n",
       "5        342\n",
       "6        140\n",
       "7         54\n",
       "8         25\n",
       "9         12\n",
       "10         4\n",
       "11         1\n",
       "12         2\n",
       "13         1\n",
       "96         5\n",
       "98       220\n",
       "dtype: int64"
      ]
     },
     "execution_count": 39,
     "metadata": {},
     "output_type": "execute_result"
    }
   ],
   "source": [
    "#column=\"NumberOfTime30-59DaysPastDueNotWorse\"\n",
    "util_drop.groupby([\"NumberOfTime30-59DaysPastDueNotWorse\"]).size()"
   ]
  },
  {
   "cell_type": "code",
   "execution_count": 40,
   "id": "f62e9d90",
   "metadata": {},
   "outputs": [
    {
     "data": {
      "text/plain": [
       "NumberOfTimes90DaysLate\n",
       "0     140875\n",
       "1       5227\n",
       "2       1554\n",
       "3        666\n",
       "4        291\n",
       "5        131\n",
       "6         80\n",
       "7         38\n",
       "8         20\n",
       "9         19\n",
       "10         8\n",
       "11         5\n",
       "12         2\n",
       "13         4\n",
       "14         2\n",
       "15         2\n",
       "17         1\n",
       "96         5\n",
       "98       220\n",
       "dtype: int64"
      ]
     },
     "execution_count": 40,
     "metadata": {},
     "output_type": "execute_result"
    }
   ],
   "source": [
    "util_drop.groupby([\"NumberOfTimes90DaysLate\"]).size()"
   ]
  },
  {
   "cell_type": "code",
   "execution_count": 41,
   "id": "a647b3cb",
   "metadata": {},
   "outputs": [
    {
     "data": {
      "text/plain": [
       "NumberOfTime60-89DaysPastDueNotWorse\n",
       "0     141601\n",
       "1       5723\n",
       "2       1117\n",
       "3        318\n",
       "4        104\n",
       "5         34\n",
       "6         16\n",
       "7          8\n",
       "8          2\n",
       "9          1\n",
       "11         1\n",
       "96         5\n",
       "98       220\n",
       "dtype: int64"
      ]
     },
     "execution_count": 41,
     "metadata": {},
     "output_type": "execute_result"
    }
   ],
   "source": [
    "util_drop.groupby([\"NumberOfTime60-89DaysPastDueNotWorse\"]).size()"
   ]
  },
  {
   "cell_type": "code",
   "execution_count": 42,
   "id": "45f710f5",
   "metadata": {},
   "outputs": [
    {
     "data": {
      "text/plain": [
       "SeriousDlqin2yrs\n",
       "0     89\n",
       "1    136\n",
       "dtype: int64"
      ]
     },
     "execution_count": 42,
     "metadata": {},
     "output_type": "execute_result"
    }
   ],
   "source": [
    "util_drop[util_drop[\"NumberOfTimes90DaysLate\"]>=96].groupby([\"SeriousDlqin2yrs\"]).size()"
   ]
  },
  {
   "cell_type": "code",
   "execution_count": 43,
   "id": "a74f48e4",
   "metadata": {},
   "outputs": [
    {
     "data": {
      "text/plain": [
       "count    149150.000000\n",
       "mean        354.085328\n",
       "std        2042.235713\n",
       "min           0.000000\n",
       "25%           0.177334\n",
       "50%           0.368200\n",
       "75%           0.874241\n",
       "max      329664.000000\n",
       "Name: DebtRatio, dtype: float64"
      ]
     },
     "execution_count": 43,
     "metadata": {},
     "output_type": "execute_result"
    }
   ],
   "source": [
    "#column =\"DebtRatio\"\n",
    "util_drop[\"DebtRatio\"].describe()"
   ]
  },
  {
   "cell_type": "code",
   "execution_count": 44,
   "id": "7f51c795",
   "metadata": {},
   "outputs": [
    {
     "data": {
      "text/plain": [
       "<AxesSubplot:xlabel='DebtRatio', ylabel='Density'>"
      ]
     },
     "execution_count": 44,
     "metadata": {},
     "output_type": "execute_result"
    },
    {
     "data": {
      "image/png": "[encoded data removed]",
      "text/plain": [
       "<Figure size 432x288 with 1 Axes>"
      ]
     },
     "metadata": {
      "needs_background": "light"
     },
     "output_type": "display_data"
    }
   ],
   "source": [
    "sns.kdeplot(util_drop[\"DebtRatio\"])"
   ]
  },
  {
   "cell_type": "code",
   "execution_count": 45,
   "id": "d9c4287f",
   "metadata": {},
   "outputs": [
    {
     "data": {
      "text/plain": [
       "0.97    3229.53\n",
       "Name: DebtRatio, dtype: float64"
      ]
     },
     "execution_count": 45,
     "metadata": {},
     "output_type": "execute_result"
    }
   ],
   "source": [
    "util_drop[\"DebtRatio\"].quantile([0.97])"
   ]
  },
  {
   "cell_type": "code",
   "execution_count": 46,
   "id": "7c3f4aba",
   "metadata": {},
   "outputs": [],
   "source": [
    "temp=util_drop[(util_drop[\"DebtRatio\"]>3492) & (util_drop[\"SeriousDlqin2yrs\"]==util_drop[\"MonthlyIncome\"])]"
   ]
  },
  {
   "cell_type": "code",
   "execution_count": 47,
   "id": "3061ac8e",
   "metadata": {},
   "outputs": [
    {
     "data": {
      "text/plain": [
       "0    380\n",
       "1      2\n",
       "Name: SeriousDlqin2yrs, dtype: int64"
      ]
     },
     "execution_count": 47,
     "metadata": {},
     "output_type": "execute_result"
    }
   ],
   "source": [
    "temp[\"SeriousDlqin2yrs\"].value_counts()"
   ]
  },
  {
   "cell_type": "code",
   "execution_count": 48,
   "id": "3c8ee60a",
   "metadata": {},
   "outputs": [],
   "source": [
    "#lets delete this records\n",
    "dratio=util_drop.drop(util_drop[(util_drop[\"DebtRatio\"]>3492) & (util_drop[\"SeriousDlqin2yrs\"]==util_drop[\"MonthlyIncome\"])].index)"
   ]
  },
  {
   "cell_type": "code",
   "execution_count": 49,
   "id": "9759a61e",
   "metadata": {},
   "outputs": [
    {
     "data": {
      "text/plain": [
       "0    138778\n",
       "1      9990\n",
       "Name: SeriousDlqin2yrs, dtype: int64"
      ]
     },
     "execution_count": 49,
     "metadata": {},
     "output_type": "execute_result"
    }
   ],
   "source": [
    "dratio[\"SeriousDlqin2yrs\"].value_counts()"
   ]
  },
  {
   "cell_type": "code",
   "execution_count": 50,
   "id": "e33a3310",
   "metadata": {},
   "outputs": [],
   "source": [
    "#handle imbalnce data\n",
    "#saperate defaulters and non defaulters\n",
    "\n",
    "default=dratio[dratio.SeriousDlqin2yrs==0]\n",
    "ndefault=dratio[dratio.SeriousDlqin2yrs==1]"
   ]
  },
  {
   "cell_type": "code",
   "execution_count": 51,
   "id": "511af333",
   "metadata": {},
   "outputs": [],
   "source": [
    "#using undersampling technique to handle imbalance dataset\n",
    "#built dataset containing similar distribution of defaulters and non defaulters\n",
    "default_sample=default.sample(n=9990)"
   ]
  },
  {
   "cell_type": "code",
   "execution_count": 52,
   "id": "da066a70",
   "metadata": {},
   "outputs": [
    {
     "name": "stdout",
     "output_type": "stream",
     "text": [
      "(9990, 11)\n"
     ]
    }
   ],
   "source": [
    "print(default_sample.shape)"
   ]
  },
  {
   "cell_type": "code",
   "execution_count": 53,
   "id": "2ef5b01c",
   "metadata": {},
   "outputs": [],
   "source": [
    "#concatenate two dataframe\n",
    "ndataset=pd.concat([default_sample,ndefault],axis=0)"
   ]
  },
  {
   "cell_type": "code",
   "execution_count": 54,
   "id": "b00d5fbd",
   "metadata": {},
   "outputs": [
    {
     "data": {
      "text/plain": [
       "0    9990\n",
       "1    9990\n",
       "Name: SeriousDlqin2yrs, dtype: int64"
      ]
     },
     "execution_count": 54,
     "metadata": {},
     "output_type": "execute_result"
    }
   ],
   "source": [
    "ndataset[\"SeriousDlqin2yrs\"].value_counts()"
   ]
  },
  {
   "cell_type": "code",
   "execution_count": 55,
   "id": "32ed43fa",
   "metadata": {
    "scrolled": true
   },
   "outputs": [
    {
     "name": "stdout",
     "output_type": "stream",
     "text": [
      "Requirement already satisfied: xgboost in c:\\users\\dell\\anaconda3\\lib\\site-packages (1.7.2)"
     ]
    },
    {
     "name": "stderr",
     "output_type": "stream",
     "text": [
      "WARNING: There was an error checking the latest version of pip.\n"
     ]
    },
    {
     "name": "stdout",
     "output_type": "stream",
     "text": [
      "\n",
      "Requirement already satisfied: numpy in c:\\users\\dell\\anaconda3\\lib\\site-packages (from xgboost) (1.20.3)\n",
      "Requirement already satisfied: scipy in c:\\users\\dell\\anaconda3\\lib\\site-packages (from xgboost) (1.7.1)\n"
     ]
    }
   ],
   "source": [
    "#Apply Development -we sected XGboost model because\n",
    "#we have have large number of observations in training data.\n",
    "#and we have imbalance data\n",
    "\n",
    "!pip install xgboost"
   ]
  },
  {
   "cell_type": "code",
   "execution_count": 56,
   "id": "219f949e",
   "metadata": {},
   "outputs": [],
   "source": [
    "\n",
    "from sklearn.metrics import accuracy_score\n",
    "from sklearn.metrics import confusion_matrix \n",
    "from sklearn.metrics import classification_report\n",
    "from sklearn.model_selection import train_test_split\n",
    "import xgboost as xgb"
   ]
  },
  {
   "cell_type": "markdown",
   "id": "aa2d9db1",
   "metadata": {},
   "source": [
    "## Model devlopment before handling imbalace data"
   ]
  },
  {
   "cell_type": "code",
   "execution_count": 76,
   "id": "51380fe9",
   "metadata": {},
   "outputs": [],
   "source": [
    "#spliting data inti input and output\n",
    "x=dratio.drop(['SeriousDlqin2yrs'],axis=1)\n",
    "y=dratio[\"SeriousDlqin2yrs\"]"
   ]
  },
  {
   "cell_type": "code",
   "execution_count": 77,
   "id": "ebe3c346",
   "metadata": {},
   "outputs": [],
   "source": [
    "x_train,x_test,y_train,y_test=train_test_split(x,y,test_size=0.2, stratify=y)"
   ]
  },
  {
   "cell_type": "code",
   "execution_count": 78,
   "id": "fea41d4a",
   "metadata": {},
   "outputs": [],
   "source": [
    "model=xgb.XGBClassifier(tree_method=\"exact\")"
   ]
  },
  {
   "cell_type": "code",
   "execution_count": 79,
   "id": "89a0c35a",
   "metadata": {},
   "outputs": [
    {
     "name": "stderr",
     "output_type": "stream",
     "text": [
      "C:\\Users\\DELL\\anaconda3\\lib\\site-packages\\xgboost\\sklearn.py:1224: UserWarning: The use of label encoder in XGBClassifier is deprecated and will be removed in a future release. To remove this warning, do the following: 1) Pass option use_label_encoder=False when constructing XGBClassifier object; and 2) Encode your labels (y) as integers starting with 0, i.e. 0, 1, 2, ..., [num_class - 1].\n",
      "  warnings.warn(label_encoder_deprecation_msg, UserWarning)\n"
     ]
    },
    {
     "name": "stdout",
     "output_type": "stream",
     "text": [
      "[12:27:12] WARNING: ..\\src\\learner.cc:1115: Starting in XGBoost 1.3.0, the default evaluation metric used with the objective 'binary:logistic' was changed from 'error' to 'logloss'. Explicitly set eval_metric if you'd like to restore the old behavior.\n"
     ]
    },
    {
     "data": {
      "text/plain": [
       "XGBClassifier(base_score=0.5, booster='gbtree', colsample_bylevel=1,\n",
       "              colsample_bynode=1, colsample_bytree=1, enable_categorical=False,\n",
       "              gamma=0, gpu_id=-1, importance_type=None,\n",
       "              interaction_constraints='', learning_rate=0.300000012,\n",
       "              max_delta_step=0, max_depth=6, min_child_weight=1, missing=nan,\n",
       "              monotone_constraints='()', n_estimators=100, n_jobs=4,\n",
       "              num_parallel_tree=1, predictor='auto', random_state=0,\n",
       "              reg_alpha=0, reg_lambda=1, scale_pos_weight=1, subsample=1,\n",
       "              tree_method='exact', validate_parameters=1, verbosity=None)"
      ]
     },
     "execution_count": 79,
     "metadata": {},
     "output_type": "execute_result"
    }
   ],
   "source": [
    "model.fit(x,y.values.ravel())"
   ]
  },
  {
   "cell_type": "code",
   "execution_count": 80,
   "id": "a2080ec7",
   "metadata": {},
   "outputs": [],
   "source": [
    "y_pred=model.predict(x)"
   ]
  },
  {
   "cell_type": "code",
   "execution_count": 81,
   "id": "f563d62b",
   "metadata": {},
   "outputs": [
    {
     "data": {
      "text/plain": [
       "0.9465879759087976"
      ]
     },
     "execution_count": 81,
     "metadata": {},
     "output_type": "execute_result"
    }
   ],
   "source": [
    "accuracy_score(y,y_pred)"
   ]
  },
  {
   "cell_type": "code",
   "execution_count": 82,
   "id": "6cd82460",
   "metadata": {},
   "outputs": [
    {
     "data": {
      "text/plain": [
       "array([[137977,    801],\n",
       "       [  7145,   2845]], dtype=int64)"
      ]
     },
     "execution_count": 82,
     "metadata": {},
     "output_type": "execute_result"
    }
   ],
   "source": [
    "cm=confusion_matrix(y,y_pred)\n",
    "cm"
   ]
  },
  {
   "cell_type": "code",
   "execution_count": 83,
   "id": "56f2c53a",
   "metadata": {},
   "outputs": [
    {
     "data": {
      "text/plain": [
       "Text(33.0, 0.5, 'Actual')"
      ]
     },
     "execution_count": 83,
     "metadata": {},
     "output_type": "execute_result"
    },
    {
     "data": {
      "image/png": "[encoded data removed]",
      "text/plain": [
       "<Figure size 432x288 with 2 Axes>"
      ]
     },
     "metadata": {
      "needs_background": "light"
     },
     "output_type": "display_data"
    }
   ],
   "source": [
    "sns.heatmap(cm,annot=True,fmt='d',cmap=\"Oranges\",linewidth=0.5,linecolor=\"black\")\n",
    "plt.xticks(np.arange(2)+.5,[\"no deliquent\", \"deliquent\"])\n",
    "plt.yticks(np.arange(2)+.5,[\"no deliquent\", \"deliquent\"])\n",
    "plt.xlabel(\"Predicted\")\n",
    "plt.ylabel(\"Actual\")"
   ]
  },
  {
   "cell_type": "code",
   "execution_count": 65,
   "id": "73cae154",
   "metadata": {},
   "outputs": [
    {
     "name": "stdout",
     "output_type": "stream",
     "text": [
      "              precision    recall  f1-score   support\n",
      "\n",
      "           0       0.95      0.99      0.97    138778\n",
      "           1       0.78      0.28      0.42      9990\n",
      "\n",
      "    accuracy                           0.95    148768\n",
      "   macro avg       0.87      0.64      0.69    148768\n",
      "weighted avg       0.94      0.95      0.93    148768\n",
      "\n"
     ]
    }
   ],
   "source": [
    "print(classification_report(y,y_pred))"
   ]
  },
  {
   "cell_type": "markdown",
   "id": "b11cc38e",
   "metadata": {},
   "source": [
    "## Model devlopment after handling imbalace data by undersampling method"
   ]
  },
  {
   "cell_type": "code",
   "execution_count": 84,
   "id": "1c68463e",
   "metadata": {},
   "outputs": [],
   "source": [
    "#spliting data inti input and output\n",
    "x=ndataset.drop(['SeriousDlqin2yrs'],axis=1)\n",
    "y=ndataset[\"SeriousDlqin2yrs\"]"
   ]
  },
  {
   "cell_type": "code",
   "execution_count": 85,
   "id": "6ecff969",
   "metadata": {},
   "outputs": [],
   "source": [
    "model=xgb.XGBClassifier(tree_method=\"exact\")"
   ]
  },
  {
   "cell_type": "code",
   "execution_count": 86,
   "id": "2058fb57",
   "metadata": {},
   "outputs": [
    {
     "name": "stderr",
     "output_type": "stream",
     "text": [
      "C:\\Users\\DELL\\anaconda3\\lib\\site-packages\\xgboost\\sklearn.py:1224: UserWarning: The use of label encoder in XGBClassifier is deprecated and will be removed in a future release. To remove this warning, do the following: 1) Pass option use_label_encoder=False when constructing XGBClassifier object; and 2) Encode your labels (y) as integers starting with 0, i.e. 0, 1, 2, ..., [num_class - 1].\n",
      "  warnings.warn(label_encoder_deprecation_msg, UserWarning)\n"
     ]
    },
    {
     "name": "stdout",
     "output_type": "stream",
     "text": [
      "[12:28:21] WARNING: ..\\src\\learner.cc:1115: Starting in XGBoost 1.3.0, the default evaluation metric used with the objective 'binary:logistic' was changed from 'error' to 'logloss'. Explicitly set eval_metric if you'd like to restore the old behavior.\n"
     ]
    },
    {
     "data": {
      "text/plain": [
       "XGBClassifier(base_score=0.5, booster='gbtree', colsample_bylevel=1,\n",
       "              colsample_bynode=1, colsample_bytree=1, enable_categorical=False,\n",
       "              gamma=0, gpu_id=-1, importance_type=None,\n",
       "              interaction_constraints='', learning_rate=0.300000012,\n",
       "              max_delta_step=0, max_depth=6, min_child_weight=1, missing=nan,\n",
       "              monotone_constraints='()', n_estimators=100, n_jobs=4,\n",
       "              num_parallel_tree=1, predictor='auto', random_state=0,\n",
       "              reg_alpha=0, reg_lambda=1, scale_pos_weight=1, subsample=1,\n",
       "              tree_method='exact', validate_parameters=1, verbosity=None)"
      ]
     },
     "execution_count": 86,
     "metadata": {},
     "output_type": "execute_result"
    }
   ],
   "source": [
    "model.fit(x,y.values.ravel())"
   ]
  },
  {
   "cell_type": "code",
   "execution_count": 87,
   "id": "4a1fbead",
   "metadata": {},
   "outputs": [],
   "source": [
    "y_pred=model.predict(x)"
   ]
  },
  {
   "cell_type": "code",
   "execution_count": 88,
   "id": "8e245fa5",
   "metadata": {},
   "outputs": [
    {
     "data": {
      "text/plain": [
       "0.8603103103103104"
      ]
     },
     "execution_count": 88,
     "metadata": {},
     "output_type": "execute_result"
    }
   ],
   "source": [
    "accuracy_score(y,y_pred)"
   ]
  },
  {
   "cell_type": "code",
   "execution_count": 89,
   "id": "10cb1408",
   "metadata": {},
   "outputs": [
    {
     "data": {
      "text/plain": [
       "array([[8753, 1237],\n",
       "       [1554, 8436]], dtype=int64)"
      ]
     },
     "execution_count": 89,
     "metadata": {},
     "output_type": "execute_result"
    }
   ],
   "source": [
    "cm=confusion_matrix(y,y_pred)\n",
    "cm"
   ]
  },
  {
   "cell_type": "code",
   "execution_count": 90,
   "id": "0a8348b0",
   "metadata": {},
   "outputs": [
    {
     "data": {
      "text/plain": [
       "Text(33.0, 0.5, 'Actual')"
      ]
     },
     "execution_count": 90,
     "metadata": {},
     "output_type": "execute_result"
    },
    {
     "data": {
      "image/png": "[encoded data removed]",
      "text/plain": [
       "<Figure size 432x288 with 2 Axes>"
      ]
     },
     "metadata": {
      "needs_background": "light"
     },
     "output_type": "display_data"
    }
   ],
   "source": [
    "sns.heatmap(cm,annot=True,fmt='d',cmap=\"Oranges\",linewidth=0.5,linecolor=\"black\")\n",
    "plt.xticks(np.arange(2)+.5,[\"non deliquent\", \"deliquent\"])\n",
    "plt.yticks(np.arange(2)+.5,[\"non deliquent\", \"deliquent\"])\n",
    "plt.xlabel(\"Predicted\")\n",
    "plt.ylabel(\"Actual\")"
   ]
  },
  {
   "cell_type": "code",
   "execution_count": 91,
   "id": "816a2353",
   "metadata": {},
   "outputs": [
    {
     "name": "stdout",
     "output_type": "stream",
     "text": [
      "              precision    recall  f1-score   support\n",
      "\n",
      "           0       0.85      0.88      0.86      9990\n",
      "           1       0.87      0.84      0.86      9990\n",
      "\n",
      "    accuracy                           0.86     19980\n",
      "   macro avg       0.86      0.86      0.86     19980\n",
      "weighted avg       0.86      0.86      0.86     19980\n",
      "\n"
     ]
    }
   ],
   "source": [
    "print(classification_report(y,y_pred))"
   ]
  },
  {
   "cell_type": "markdown",
   "id": "4c9a1d3d",
   "metadata": {},
   "source": [
    "## Making predictive system"
   ]
  },
  {
   "cell_type": "code",
   "execution_count": 92,
   "id": "9d2bc860",
   "metadata": {},
   "outputs": [
    {
     "name": "stdout",
     "output_type": "stream",
     "text": [
      "[0]\n",
      "The Customer is Non Deliquent\n"
     ]
    }
   ],
   "source": [
    "#input data for prediction\n",
    "input_data=(0.957151019,40,0,0.121876201,2600,4,0,0,0,1)\n",
    "\n",
    "#Changing the input data to a numpy array\n",
    "input_data_as_numpy_array=np.asarray(input_data)\n",
    "\n",
    "#reshape the numpy array as we are predicting for one instance\n",
    "input_data_reshaped=input_data_as_numpy_array.reshape(1,-1)\n",
    "\n",
    "prediction=model.predict(input_data_reshaped)\n",
    "print(prediction)\n",
    "\n",
    "if (prediction[0] == 1):\n",
    "  print('The Customer is Deliquent')\n",
    "else:\n",
    "  print('The Customer is Non Deliquent')"
   ]
  },
  {
   "cell_type": "code",
   "execution_count": 93,
   "id": "e9a6f2a2",
   "metadata": {},
   "outputs": [
    {
     "name": "stdout",
     "output_type": "stream",
     "text": [
      "[1]\n",
      "The Customer is Deliquent\n"
     ]
    }
   ],
   "source": [
    "#input data for prediction\n",
    "input_data=(0.964672555,40,3,0.382964747,13700,9,3,1,1,2)\n",
    "\n",
    "#Changing the input data to a numpy array\n",
    "input_data_as_numpy_array=np.asarray(input_data)\n",
    "\n",
    "#reshape the numpy array as we are predicting for one instance\n",
    "input_data_reshaped=input_data_as_numpy_array.reshape(1,-1)\n",
    "\n",
    "prediction=model.predict(input_data_reshaped)\n",
    "print(prediction)\n",
    "\n",
    "if (prediction[0] == 1):\n",
    "  print('The Customer is Deliquent')\n",
    "else:\n",
    "  print('The Customer is Non Deliquent')"
   ]
  },
  {
   "cell_type": "code",
   "execution_count": null,
   "id": "278fe828",
   "metadata": {},
   "outputs": [],
   "source": []
  }
 ],
 "metadata": {
  "kernelspec": {
   "display_name": "Python 3 (ipykernel)",
   "language": "python",
   "name": "python3"
  },
  "language_info": {
   "codemirror_mode": {
    "name": "ipython",
    "version": 3
   },
   "file_extension": ".py",
   "mimetype": "text/x-python",
   "name": "python",
   "nbconvert_exporter": "python",
   "pygments_lexer": "ipython3",
   "version": "3.9.7"
  }
 },
 "nbformat": 4,
 "nbformat_minor": 5
}
